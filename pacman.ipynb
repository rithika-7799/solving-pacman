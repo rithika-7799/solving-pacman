{
  "cells": [
    {
      "cell_type": "markdown",
      "metadata": {
        "id": "ST8WNNZF1gPS"
      },
      "source": [
        "### Pacman"
      ]
    },
    {
      "cell_type": "code",
      "execution_count": null,
      "metadata": {
        "id": "0gZFhavz1gPW"
      },
      "outputs": [],
      "source": [
        "import time\n",
        "import heapq\n",
        "from typing import Tuple, List"
      ]
    },
    {
      "cell_type": "markdown",
      "metadata": {
        "id": "MkwGdU5c1gPY"
      },
      "source": [
        "### IDS implementation"
      ]
    },
    {
      "cell_type": "code",
      "source": [
        "def make_move(board_state, agent, move, cols):\n",
        "    idxp = board_state.index(agent)\n",
        "    target = None\n",
        "    \n",
        "    if move == 'L':\n",
        "        target = idxp - 1\n",
        "    elif move == 'D':\n",
        "        target = idxp + cols\n",
        "    elif move == 'R':\n",
        "        target = idxp + 1\n",
        "    elif move == 'U':\n",
        "        target = idxp - cols\n",
        "        \n",
        "    if (\n",
        "        target is not None\n",
        "        and target >= 0\n",
        "        and target < len(board_state)\n",
        "        and board_state[target] in ('.', '3', f\"{'1' if agent == 'P' else '2'}\")\n",
        "    ):\n",
        "        new_board_state = list(board_state)\n",
        "        new_board_state[target] = agent\n",
        "        new_board_state[idxp] = '.'\n",
        "        if f\"{'1' if agent == 'P' else '2'}\" not in new_board_state and '3' not in new_board_state:\n",
        "            new_board_state[target] = '.'\n",
        "        return ''.join(new_board_state)\n",
        "    return False\n",
        "\n",
        "def dfs(board_state,cols,agent,move,psteps,qsteps,visited,curr_depth,depth):\n",
        "\n",
        "  if curr_depth == depth:\n",
        "    return -1,-1\n",
        "\n",
        "  # check if move is possible \n",
        "  if agent != \"\":\n",
        "    board_state = make_move(board_state,agent,move,cols)\n",
        "    if not board_state:\n",
        "      return -1,-1\n",
        "\n",
        "  if '1' not in board_state and '2' not in board_state and '3' not in board_state: \n",
        "    return psteps,qsteps\n",
        "  \n",
        "  # add to explored \n",
        "  if board_state in visited:\n",
        "    if curr_depth < visited[board_state]:\n",
        "      visited[board_state] = curr_depth \n",
        "    else:\n",
        "      return -1,-1\n",
        "  visited[board_state] = curr_depth\n",
        "\n",
        "  if 'P' in board_state:\n",
        "    for move in ['U','R','D','L']:\n",
        "      result = dfs(board_state,cols,'P',move,psteps+move,qsteps,visited,curr_depth+1,depth)\n",
        "      if result != (-1,-1):\n",
        "        return result\n",
        "\n",
        "  if 'Q' in board_state:  \n",
        "    for move in ['U','R','D','L']:  \n",
        "      result = dfs(board_state,cols,'Q',move,psteps,qsteps+move,visited,curr_depth+1,depth)\n",
        "      if result != (-1,-1):\n",
        "        return result\n",
        "\n",
        "  return -1,-1\n",
        "  \n",
        "\n",
        "def IDS(board_map: List[str]) -> Tuple[str, str]:\n",
        "    p_steps, q_steps = list(), list()\n",
        "    # join board_map to make start_state\n",
        "    start_state = []\n",
        "    cols = len(board_map[0])-1\n",
        "    for s in board_map:\n",
        "        start_state.append(s[0:len(s)-1])\n",
        "    start_state = ''.join(start_state) + '%'\n",
        "    \n",
        "    # search\n",
        "    depth_max = 2\n",
        "    while(True): \n",
        "        visited = {}\n",
        "        psteps,qsteps = dfs(start_state,cols,\"\",\"\",\"\",\"\",visited,0,depth_max)\n",
        "        if psteps!=-1:\n",
        "          return psteps,qsteps\n",
        "        depth_max+=1\n",
        "  \n"
      ],
      "metadata": {
        "id": "ARAihPYE1qj5"
      },
      "execution_count": null,
      "outputs": []
    },
    {
      "cell_type": "code",
      "execution_count": null,
      "metadata": {
        "id": "xqEk_-A11gPZ"
      },
      "outputs": [],
      "source": []
    },
    {
      "cell_type": "markdown",
      "source": [
        "### A* implementation"
      ],
      "metadata": {
        "id": "GgzycfYeBqCQ"
      }
    },
    {
      "cell_type": "code",
      "source": [
        "def get_successors(board_state,cols,psteps,qsteps):\n",
        "    \n",
        "    neighbors =[]\n",
        "    \n",
        "    if 'P' in board_state:\n",
        "      idxp = board_state.index('P') \n",
        "      agent='P'\n",
        "\n",
        "      # UP P - subtract 13 to go up AND only if '.' or '1' or '3'\n",
        "      if(idxp-cols >= 0 and (board_state[idxp-cols]=='.' or board_state[idxp-cols]=='3' or board_state[idxp-cols]=='1')):\n",
        "          l = list(board_state)\n",
        "          l[idxp-cols]= agent\n",
        "          l[idxp] = '.'\n",
        "          #check if all 1 and 3 are over\n",
        "          if not '1' in l and not '3' in l:\n",
        "              l[idxp-cols] = '.'\n",
        "          new = ''.join(l)\n",
        "          neighbors.append((new,'P','U',psteps+'U',qsteps))  \n",
        "          \n",
        "      # RIGHT P - RIGHT add 1 to go right AND only if '.' or '1' or '3'\n",
        "      if(idxp+1 < len(board_state) and (board_state[idxp+1]=='.' or board_state[idxp+1]=='3' or board_state[idxp+1]=='1')):\n",
        "          l = list(board_state)\n",
        "          l[idxp+1]= agent\n",
        "          l[idxp] = '.'\n",
        "          #check if all 1 and 3 are over\n",
        "          if not '1' in l and not '3' in l:\n",
        "              l[idxp+1] = '.'\n",
        "\n",
        "          new = ''.join(l)\n",
        "          neighbors.append((new,'P','R',psteps+'R',qsteps))  \n",
        "          \n",
        "      # DOWN P - DOWN add 13 to go right AND only if '.' or '1' or '3'\n",
        "      if(idxp+cols < len(board_state) and (board_state[idxp+cols]=='.' or board_state[idxp+cols]=='3' or board_state[idxp+cols]=='1')):\n",
        "          l = list(board_state)\n",
        "          l[idxp+cols] = agent\n",
        "          l[idxp] = '.'\n",
        "          #check if all 1 and 3 are over\n",
        "          if not '1' in l and not '3' in l:\n",
        "              l[idxp+cols] = '.'\n",
        "\n",
        "          new = ''.join(l)\n",
        "          neighbors.append((new,'P','D',psteps+'D',qsteps))  \n",
        "          \n",
        "      # LEFT P - LEFT subtract 1 to go left AND only if '.' or '1' or '3'\n",
        "      if(idxp-1 >= 0 and (board_state[idxp-1]=='.' or board_state[idxp-1]=='3' or board_state[idxp-1]=='1')):\n",
        "          l = list(board_state)\n",
        "          l[idxp-1] = agent\n",
        "          l[idxp]= '.'\n",
        "          #check if all 1 and 3 are over\n",
        "          if not '1' in l and not '3' in l:\n",
        "              l[idxp-1] = '.'\n",
        "\n",
        "          new = ''.join(l)\n",
        "          neighbors.append((new,'P','L',psteps+'L',qsteps))  \n",
        "          \n",
        "    if 'Q' in board_state:\n",
        "        idxq = board_state.index('Q')\n",
        "        agent = 'Q'\n",
        "\n",
        "        # UP Q - up subtract 13 to go up AND only if '.' or '1' or '3'\n",
        "        if(idxq-cols >= 0 and (board_state[idxq-cols]=='.' or board_state[idxq-cols]=='3' or board_state[idxq-cols]=='2')):\n",
        "            l = list(board_state)\n",
        "            l[idxq-cols]= agent\n",
        "            l[idxq] = '.'\n",
        "            # check if all 2 and 3 are over\n",
        "            if not '2' in l and not '3' in l:\n",
        "                l[idxq-cols] = '.'\n",
        "      \n",
        "            new = ''.join(l)\n",
        "            neighbors.append((new,'Q','U',psteps,qsteps+'U'))  \n",
        "          \n",
        "        # RIGHT Q - RIGHT add 1 to go right AND only if '.' or '2' or '3'\n",
        "        if(idxq+1 < len(board_state) and (board_state[idxq+1]=='.' or board_state[idxq+1]=='3' or board_state[idxq+1]=='2')):\n",
        "            l = list(board_state)\n",
        "            l[idxq+1]= agent\n",
        "            l[idxq] = '.'\n",
        "            # check if all 2 and 3 are over\n",
        "            if not '2' in l and not '3' in l:\n",
        "                l[idxq+1] = '.'\n",
        "      \n",
        "            new = ''.join(l)\n",
        "            neighbors.append((new,'Q','R',psteps,qsteps+'R'))  \n",
        "          \n",
        "        # DOWN Q - DOWN add 13 to go right AND only if '.' or '2' or '3'\n",
        "        if(idxq+cols < len(board_state) and (board_state[idxq+cols]=='.' or board_state[idxq+cols]=='3' or board_state[idxq+cols]=='2')):\n",
        "            l = list(board_state)\n",
        "            l[idxq+cols] = agent\n",
        "            l[idxq] = '.'\n",
        "            # check if all 2 and 3 are over\n",
        "            if not '2' in l and not '3' in l:\n",
        "                l[idxq+cols] = '.'\n",
        "      \n",
        "            new = ''.join(l)\n",
        "            neighbors.append((new,'Q','D',psteps,qsteps+'D'))  \n",
        "          \n",
        "        # LEFT Q - LEFT subtract 1 to go left AND only if '.' or '2' or '3'\n",
        "        if(idxq-1 >= 0 and (board_state[idxq-1]=='.' or board_state[idxq-1]=='3' or board_state[idxq-1]=='2')):\n",
        "            l = list(board_state)\n",
        "            l[idxq-1] = agent\n",
        "            l[idxq]= '.'\n",
        "            # check if all 2 and 3 are over\n",
        "            if not '2' in l and not '3' in l:\n",
        "                l[idxq-1] = '.'\n",
        "      \n",
        "            new = ''.join(l)\n",
        "            neighbors.append((new,'Q','L',psteps,qsteps+'L'))  \n",
        "  \n",
        "    return neighbors\n",
        "\n",
        "\n",
        "\n",
        "def heuristic(board_state,cols):\n",
        "\n",
        "    p_distance = 0\n",
        "    q_distance = 0\n",
        "\n",
        "    if 'P' in board_state:\n",
        "      index = board_state.index(\"P\")\n",
        "      row,col = divmod(index,cols)\n",
        "      for char in board_state:\n",
        "        if char in ['1','3']:\n",
        "          num_index = board_state.index(char)\n",
        "          num_row,num_col = divmod(num_index,cols)\n",
        "          p_distance = min(p_distance,(abs(row - num_row) + abs(col - num_col)))\n",
        "\n",
        "\n",
        "    if 'Q' in board_state:\n",
        "      index = board_state.index(\"Q\")\n",
        "      row,col = divmod(index,cols)\n",
        "      for char in board_state:\n",
        "        if char in ['2','3']:\n",
        "          num_index = board_state.index(char)\n",
        "          num_row,num_col = divmod(num_index,cols)\n",
        "          q_distance = min(q_distance,(abs(row - num_row) + abs(col - num_col)))\n",
        "\n",
        "    return min(p_distance,q_distance)    \n",
        "\n",
        "import heapq\n",
        "def Astar(board_map: List[str]) -> Tuple[str, str]:\n",
        "    p_steps, q_steps = \"\",\"\"\n",
        "\n",
        "    cols = len(board_map[0])-1\n",
        "    start_state = ''.join(s[:-1] for s in board_map) + '%'\n",
        "\n",
        "    frontier = [] \n",
        "    heapq.heappush(frontier,(0,0,0,start_state,'','','',''))\n",
        "    visited = {}\n",
        "    \n",
        "    i = 1\n",
        "    while frontier:\n",
        "      node = heapq.heappop(frontier)\n",
        "      if node[3] in visited:\n",
        "        if node[0] < visited[node[3]]:\n",
        "          visited[node[3]] = node[0] \n",
        "        else:\n",
        "          continue\n",
        "\n",
        "      visited[node[3]] = node[0]\n",
        "      # check for goal state \n",
        "      if '1' not in node[3] and '2' not in node[3] and '3' not in node[3]:\n",
        "        return node[6],node[7]\n",
        "           \n",
        "      # get neighbors\n",
        "      for board_state,agent,move,psteps,qsteps in get_successors(node[3],cols,node[6],node[7]):\n",
        "        cost = node[1]+1\n",
        "        h = heuristic(board_state,cols)\n",
        "        f = cost+h\n",
        "        heapq.heappush(frontier, (f,cost,h,board_state,agent, move,psteps,qsteps))\n",
        "\n",
        "      i+=1\n",
        "      "
      ],
      "metadata": {
        "id": "wj5GcMj7BoVB"
      },
      "execution_count": null,
      "outputs": []
    },
    {
      "cell_type": "markdown",
      "metadata": {
        "id": "9ABFLZtF1gPZ"
      },
      "source": [
        "### Utility Functions"
      ]
    },
    {
      "cell_type": "code",
      "execution_count": null,
      "metadata": {
        "id": "0TpLwgSg1gPa"
      },
      "outputs": [],
      "source": [
        "def read_file(fileaddr):\n",
        "    with open(fileaddr) as file:\n",
        "        table = file.readlines()\n",
        "    return table\n",
        "\n",
        "def print_map(board_map):\n",
        "    print(f\"----------- Map -----------\")\n",
        "    for line in board_map:\n",
        "        print(line, end=\"\")\n",
        "    print(\"\\n---------------------------\")\n",
        "\n",
        "def print_agent_steps(steps, agent_name):\n",
        "    print(f\"Agent {agent_name}: Num of Steps: {len(steps)} - Steps: {steps}\") # steps should be a string of U, R, D, L characters for Up, Right, Down, and Left movements, respectively. An example would be 'URRURRUL'\n",
        "\n",
        "def print_steps_time(p_steps, q_steps, elpased_time, algorithm_name):\n",
        "    print(f\"----------- {algorithm_name} -----------\")\n",
        "    print_agent_steps(p_steps, \"P\")\n",
        "    print_agent_steps(q_steps, \"Q\")\n",
        "    print(f\"Elapsed Time: {elpased_time} Seconds\")\n",
        "    print(\"----------------------------\")"
      ]
    },
    {
      "cell_type": "markdown",
      "metadata": {
        "id": "GXRhAsJ21gPa"
      },
      "source": [
        "### Running The Code - Test 1"
      ]
    },
    {
      "cell_type": "code",
      "execution_count": null,
      "metadata": {
        "colab": {
          "base_uri": "https://localhost:8080/"
        },
        "id": "VmYDmLdG1gPb",
        "outputId": "ae5d96fc-c14c-4227-9522-775ce184cbd2"
      },
      "outputs": [
        {
          "output_type": "stream",
          "name": "stdout",
          "text": [
            "----------- Map -----------\n",
            "%%%%%%%%%%%%%\n",
            "%....%2%....%\n",
            "%...3Q......%\n",
            "%.%%%%%.%%%%%\n",
            "%1......%.%.%\n",
            "%%%.%%..%1%.%\n",
            "%....%....%.%\n",
            "%3.....P%...%\n",
            "%.%.%%%..%%.%\n",
            "%...%1......%\n",
            "%%%%%%%%%%%%%\n",
            "---------------------------\n",
            "----------- IDS -----------\n",
            "Agent P: Num of Steps: 29 - Steps: URRUDLLDDDLLRRUULLLLLLURRUULL\n",
            "Agent Q: Num of Steps: 4 - Steps: LRRU\n",
            "Elapsed Time: 139.36002683639526 Seconds\n",
            "----------------------------\n",
            "----------- A* -----------\n",
            "Agent P: Num of Steps: 29 - Steps: DDLLRRUUURRUDLLLDLLLLLURRUULL\n",
            "Agent Q: Num of Steps: 4 - Steps: LRRU\n",
            "Elapsed Time: 25.64184832572937 Seconds\n",
            "----------------------------\n"
          ]
        }
      ],
      "source": [
        "if __name__==\"__main__\":\n",
        "    test_case_number = 1 # Enter the test case number here\n",
        "    board_map = read_file(fileaddr = f\"Test Cases/test{test_case_number}\")\n",
        "    print_map(board_map)\n",
        "\n",
        "    # Running IDS\n",
        "    tick = time.time()\n",
        "    p_steps, q_steps = IDS(board_map)\n",
        "    tock = time.time()\n",
        "    print_steps_time(p_steps, q_steps, tock-tick, \"IDS\")\n",
        "\n",
        "    # Running A* Search\n",
        "    tick = time.time()\n",
        "    p_steps, q_steps = Astar(board_map)\n",
        "    tock = time.time()\n",
        "    print_steps_time(p_steps, q_steps, tock-tick, \"A*\")"
      ]
    },
    {
      "cell_type": "code",
      "source": [],
      "metadata": {
        "id": "NvlWcVzM2emm"
      },
      "execution_count": null,
      "outputs": []
    },
    {
      "cell_type": "markdown",
      "metadata": {
        "id": "tFmOgeUt20MG"
      },
      "source": [
        "### Running The Code - Test 2"
      ]
    },
    {
      "cell_type": "code",
      "execution_count": null,
      "metadata": {
        "colab": {
          "base_uri": "https://localhost:8080/"
        },
        "outputId": "5edd4f59-6b28-42f7-886a-31182f66881e",
        "id": "EypMRClf20MP"
      },
      "outputs": [
        {
          "output_type": "stream",
          "name": "stdout",
          "text": [
            "----------- Map -----------\n",
            "%%%%%%\n",
            "%...1%\n",
            "%....%\n",
            "%...P%\n",
            "%%.%%%\n",
            "%...3%\n",
            "%1...%\n",
            "%%%.%%\n",
            "%3..Q%\n",
            "%%%%%%\n",
            "---------------------------\n",
            "----------- IDS -----------\n",
            "Agent P: Num of Steps: 14 - Steps: UUDDLLDDRRDLLL\n",
            "Agent Q: Num of Steps: 3 - Steps: LLL\n",
            "Elapsed Time: 0.5905859470367432 Seconds\n",
            "----------------------------\n",
            "----------- A* -----------\n",
            "Agent P: Num of Steps: 14 - Steps: UULLDDDDRRLLLD\n",
            "Agent Q: Num of Steps: 3 - Steps: LLL\n",
            "Elapsed Time: 0.49897027015686035 Seconds\n",
            "----------------------------\n"
          ]
        }
      ],
      "source": [
        "if __name__==\"__main__\":\n",
        "    test_case_number = 2 # Enter the test case number here\n",
        "    board_map = read_file(fileaddr = f\"Test Cases/test{test_case_number}\")\n",
        "    print_map(board_map)\n",
        "\n",
        "    # Running IDS\n",
        "    tick = time.time()\n",
        "    p_steps, q_steps = IDS(board_map)\n",
        "    tock = time.time()\n",
        "    print_steps_time(p_steps, q_steps, tock-tick, \"IDS\")\n",
        "\n",
        "    # Running A* Search\n",
        "    tick = time.time()\n",
        "    p_steps, q_steps = Astar(board_map)\n",
        "    tock = time.time()\n",
        "    print_steps_time(p_steps, q_steps, tock-tick, \"A*\")"
      ]
    },
    {
      "cell_type": "markdown",
      "metadata": {
        "id": "4Dp9eIHH242U"
      },
      "source": [
        "### Running The Code - Test 3"
      ]
    },
    {
      "cell_type": "code",
      "execution_count": null,
      "metadata": {
        "colab": {
          "base_uri": "https://localhost:8080/"
        },
        "outputId": "a541b064-6606-49ac-8ea9-5c55a59023c5",
        "id": "li3XIq8-242U"
      },
      "outputs": [
        {
          "output_type": "stream",
          "name": "stdout",
          "text": [
            "----------- Map -----------\n",
            "%%%%%%%%%%%%%%%%%%%%%%%%%%%%%%%%%%%%%%%%%%%%%%%%%\n",
            "%...3Q.......2...%......%%%%.%...%%P1%%%.%......%\n",
            "%.%%%%%.%%.%%%.....%..%.....3..........%..%%%%%%%\n",
            "%%%%%%%%%%%%%%%%%%%%%%%%%%%%%%%%%%%%%%%%%%%%%%%%%\n",
            "---------------------------\n",
            "----------- IDS -----------\n",
            "Agent P: Num of Steps: 10 - Steps: RDLLLLLLLL\n",
            "Agent Q: Num of Steps: 10 - Steps: LRRRRRRRRR\n",
            "Elapsed Time: 2.461320161819458 Seconds\n",
            "----------------------------\n",
            "----------- A* -----------\n",
            "Agent P: Num of Steps: 10 - Steps: RLDLLLLLLL\n",
            "Agent Q: Num of Steps: 10 - Steps: LRRRRRRRRR\n",
            "Elapsed Time: 0.43866610527038574 Seconds\n",
            "----------------------------\n"
          ]
        }
      ],
      "source": [
        "if __name__==\"__main__\":\n",
        "    test_case_number = 3 # Enter the test case number here\n",
        "    board_map = read_file(fileaddr = f\"Test Cases/test{test_case_number}\")\n",
        "    print_map(board_map)\n",
        "\n",
        "    # Running IDS\n",
        "    tick = time.time()\n",
        "    p_steps, q_steps = IDS(board_map)\n",
        "    tock = time.time()\n",
        "    print_steps_time(p_steps, q_steps, tock-tick, \"IDS\")\n",
        "\n",
        "    # Running A* Search\n",
        "    tick = time.time()\n",
        "    p_steps, q_steps = Astar(board_map)\n",
        "    tock = time.time()\n",
        "    print_steps_time(p_steps, q_steps, tock-tick, \"A*\")"
      ]
    },
    {
      "cell_type": "markdown",
      "metadata": {
        "id": "zEZXlS4b28K7"
      },
      "source": [
        "### Running The Code - Test 4"
      ]
    },
    {
      "cell_type": "code",
      "execution_count": null,
      "metadata": {
        "colab": {
          "base_uri": "https://localhost:8080/"
        },
        "outputId": "56ea3141-677e-4084-b186-1b8f66eb487f",
        "id": "F87PLYIE28K8"
      },
      "outputs": [
        {
          "output_type": "stream",
          "name": "stdout",
          "text": [
            "----------- Map -----------\n",
            "%%%%%%%%%%%%%%%%%%%%%%%%%%%%%\n",
            "%....%........%.............%\n",
            "%....%%%%.%%%%%%.%..%.%.%%..%\n",
            "%....%......%..%.%..%.%..%..%\n",
            "%....P...........%......%%%%%\n",
            "%.%%%%%.%%%%%%..%%%%.%......%\n",
            "%.......%....%........%.%%%.%\n",
            "%.%.%..1........3..%.%%.%%%.%\n",
            "%....%........%%%%..%....Q%.%\n",
            "%.......%...%..%...2........%\n",
            "%.%.%%.....%.%.......%%..%..%\n",
            "%%%.%%..%.%%%%%%%.%%%%%.%...%\n",
            "%...%.......................%\n",
            "%%%%%%%%%%%%%%%%%%%%%%%%%%%%%\n",
            "---------------------------\n",
            "----------- IDS -----------\n",
            "Agent P: Num of Steps: 5 - Steps: RRDDD\n",
            "Agent Q: Num of Steps: 12 - Steps: DLLLLLLULULL\n",
            "Elapsed Time: 5.709825038909912 Seconds\n",
            "----------------------------\n",
            "----------- A* -----------\n",
            "Agent P: Num of Steps: 5 - Steps: RRDDD\n",
            "Agent Q: Num of Steps: 12 - Steps: LLLLDLLULULL\n",
            "Elapsed Time: 6.623495578765869 Seconds\n",
            "----------------------------\n"
          ]
        }
      ],
      "source": [
        "if __name__==\"__main__\":\n",
        "    test_case_number = 4 # Enter the test case number here\n",
        "    board_map = read_file(fileaddr = f\"Test Cases/test{test_case_number}\")\n",
        "    print_map(board_map)\n",
        "\n",
        "    # Running IDS\n",
        "    tick = time.time()\n",
        "    p_steps, q_steps = IDS(board_map)\n",
        "    tock = time.time()\n",
        "    print_steps_time(p_steps, q_steps, tock-tick, \"IDS\")\n",
        "\n",
        "    # Running A* Search\n",
        "    tick = time.time()\n",
        "    p_steps, q_steps = Astar(board_map)\n",
        "    tock = time.time()\n",
        "    print_steps_time(p_steps, q_steps, tock-tick, \"A*\")"
      ]
    },
    {
      "cell_type": "code",
      "source": [],
      "metadata": {
        "id": "4s6gGMgI2-TA"
      },
      "execution_count": null,
      "outputs": []
    },
    {
      "cell_type": "markdown",
      "metadata": {
        "id": "1n2FPgRH3FLN"
      },
      "source": [
        "### Running The Code - Test 5"
      ]
    },
    {
      "cell_type": "code",
      "execution_count": null,
      "metadata": {
        "colab": {
          "base_uri": "https://localhost:8080/"
        },
        "outputId": "eb1cdd12-bb15-4e06-f92d-a5ab03e000f6",
        "id": "pp86Tze73FLN"
      },
      "outputs": [
        {
          "output_type": "stream",
          "name": "stdout",
          "text": [
            "----------- Map -----------\n",
            "%%%%%%\n",
            "%....%\n",
            "%....%\n",
            "%...P%\n",
            "%%.%%%\n",
            "%..23%\n",
            "%1.1.%\n",
            "%%%.%%\n",
            "%...Q%\n",
            "%%%%%%.\n",
            "---------------------------\n",
            "----------- IDS -----------\n",
            "Agent P: Num of Steps: 8 - Steps: LLDDDRLL\n",
            "Agent Q: Num of Steps: 5 - Steps: LUUUR\n",
            "Elapsed Time: 0.09187436103820801 Seconds\n",
            "----------------------------\n",
            "----------- A* -----------\n",
            "Agent P: Num of Steps: 8 - Steps: LLDDDRLL\n",
            "Agent Q: Num of Steps: 5 - Steps: LUUUR\n",
            "Elapsed Time: 0.04330015182495117 Seconds\n",
            "----------------------------\n"
          ]
        }
      ],
      "source": [
        "if __name__==\"__main__\":\n",
        "    test_case_number = 5 # Enter the test case number here\n",
        "    board_map = read_file(fileaddr = f\"Test Cases/test{test_case_number}\")\n",
        "    print_map(board_map)\n",
        "\n",
        "    # Running IDS\n",
        "    tick = time.time()\n",
        "    p_steps, q_steps = IDS(board_map)\n",
        "    tock = time.time()\n",
        "    print_steps_time(p_steps, q_steps, tock-tick, \"IDS\")\n",
        "\n",
        "    # Running A* Search\n",
        "    tick = time.time()\n",
        "    p_steps, q_steps = Astar(board_map)\n",
        "    tock = time.time()\n",
        "    print_steps_time(p_steps, q_steps, tock-tick, \"A*\")"
      ]
    },
    {
      "cell_type": "code",
      "source": [],
      "metadata": {
        "id": "2ybaogiL3HOf"
      },
      "execution_count": null,
      "outputs": []
    }
  ],
  "metadata": {
    "kernelspec": {
      "display_name": "Python 3",
      "language": "python",
      "name": "python3"
    },
    "language_info": {
      "codemirror_mode": {
        "name": "ipython",
        "version": 3
      },
      "file_extension": ".py",
      "mimetype": "text/x-python",
      "name": "python",
      "nbconvert_exporter": "python",
      "pygments_lexer": "ipython3",
      "version": "3.9.6 (default, Oct 18 2022, 12:41:40) \n[Clang 14.0.0 (clang-1400.0.29.202)]"
    },
    "orig_nbformat": 4,
    "vscode": {
      "interpreter": {
        "hash": "31f2aee4e71d21fbe5cf8b01ff0e069b9275f58929596ceb00d14d90e3e16cd6"
      }
    },
    "colab": {
      "provenance": []
    }
  },
  "nbformat": 4,
  "nbformat_minor": 0
}